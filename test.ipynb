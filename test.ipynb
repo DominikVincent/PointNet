{
 "cells": [
  {
   "cell_type": "code",
   "execution_count": 1,
   "metadata": {},
   "outputs": [],
   "source": [
    "import importlib\n",
    "import argparse\n",
    "import os\n",
    "import torch"
   ]
  },
  {
   "cell_type": "code",
   "execution_count": 2,
   "metadata": {},
   "outputs": [],
   "source": [
    "def parse_args():\n",
    "    parser = argparse.ArgumentParser('Model')\n",
    "    parser.add_argument('--model', type=str, default='pointnet2_sem_seg', help='model name [default: pointnet_sem_seg]')\n",
    "    parser.add_argument('--batch_size', type=int, default=16, help='Batch Size during training [default: 16]')\n",
    "    parser.add_argument('--epoch', default=32, type=int, help='Epoch to run [default: 32]')\n",
    "    parser.add_argument('--learning_rate', default=0.001, type=float, help='Initial learning rate [default: 0.001]')\n",
    "    parser.add_argument('--gpu', type=str, default='0', help='GPU to use [default: GPU 0]')\n",
    "    parser.add_argument('--optimizer', type=str, default='Adam', help='Adam or SGD [default: Adam]')\n",
    "    parser.add_argument('--log_dir', type=str, default=None, help='Log path [default: None]')\n",
    "    parser.add_argument('--decay_rate', type=float, default=1e-4, help='weight decay [default: 1e-4]')\n",
    "    parser.add_argument('--npoint', type=int, default=4096, help='Point Number [default: 4096]')\n",
    "    parser.add_argument('--step_size', type=int, default=10, help='Decay step for lr decay [default: every 10 epochs]')\n",
    "    parser.add_argument('--lr_decay', type=float, default=0.7, help='Decay rate for lr decay [default: 0.7]')\n",
    "    parser.add_argument('--test_area', type=int, default=5, help='Which area to use for test, option: 1-6 [default: 5]')\n",
    "\n",
    "    return parser.parse_args()"
   ]
  },
  {
   "cell_type": "code",
   "execution_count": 3,
   "metadata": {},
   "outputs": [],
   "source": [
    "from pointnet.models.pointnet2_sem_seg import get_model\n",
    "\n",
    "classifier = get_model(6).cuda()#"
   ]
  },
  {
   "cell_type": "code",
   "execution_count": 4,
   "metadata": {},
   "outputs": [
    {
     "name": "stdout",
     "output_type": "stream",
     "text": [
      "Total number of parameters: 967366\n"
     ]
    }
   ],
   "source": [
    "# print classifiers parameters\n",
    "num_params = 0\n",
    "for param in classifier.parameters():\n",
    "    num_params += param.numel()\n",
    "print('Total number of parameters: %d' % num_params)"
   ]
  },
  {
   "cell_type": "code",
   "execution_count": 13,
   "metadata": {},
   "outputs": [],
   "source": [
    "input = torch.rand(1, 9, 2048).cuda()*2 - 0.5\n",
    "input2 = input.clone()\n",
    "classifier.train()\n",
    "pred, label = classifier(input)\n",
    "classifier.eval()\n",
    "pred2, label2 = classifier(input)\n"
   ]
  },
  {
   "cell_type": "code",
   "execution_count": 14,
   "metadata": {},
   "outputs": [
    {
     "name": "stdout",
     "output_type": "stream",
     "text": [
      "tensor([[[-0.3663, -0.2715,  0.9893,  ..., -0.0030,  0.4206,  1.3122],\n",
      "         [ 0.9964, -0.2330,  1.2851,  ...,  0.1651,  0.9246,  1.1202],\n",
      "         [ 0.2094,  0.1582,  0.4718,  ...,  0.5509,  0.3841,  0.7598],\n",
      "         ...,\n",
      "         [-0.4682,  0.5770,  0.2329,  ...,  0.4164,  0.3356,  0.2888],\n",
      "         [ 0.3728,  0.1340,  0.7693,  ...,  0.3844,  0.5648, -0.3686],\n",
      "         [-0.3690,  0.1667,  0.8422,  ...,  1.1495,  0.6075,  0.4641]]],\n",
      "       device='cuda:0')\n"
     ]
    }
   ],
   "source": [
    "print(input)\n",
    "print(torch.all(input.permute(0, 2, 1) == input.transpose(2,1)))"
   ]
  },
  {
   "cell_type": "code",
   "execution_count": 15,
   "metadata": {},
   "outputs": [
    {
     "name": "stdout",
     "output_type": "stream",
     "text": [
      "tensor([[[-0.0589, -0.1485,  0.5383,  1.1014,  0.7698,  1.0260],\n",
      "         [-0.1359,  0.1432,  0.3226,  0.2641,  0.5689, -0.7654],\n",
      "         [ 0.7686, -0.2590,  1.3068, -0.1296,  0.4115,  0.7746],\n",
      "         ...,\n",
      "         [ 0.1930,  0.3330,  0.6197, -0.0708,  0.8040,  0.6911],\n",
      "         [-0.3145, -0.7046,  0.2097,  0.2600,  0.3233, -0.1273],\n",
      "         [ 0.4389, -0.1210, -0.2671,  0.3203, -0.1259, -0.1397]]],\n",
      "       device='cuda:0', grad_fn=<PermuteBackward0>)\n"
     ]
    }
   ],
   "source": [
    "print(pred)"
   ]
  },
  {
   "cell_type": "code",
   "execution_count": 16,
   "metadata": {},
   "outputs": [
    {
     "name": "stdout",
     "output_type": "stream",
     "text": [
      "tensor([[[ 0.0383,  0.0146, -0.0180,  0.0098,  0.0209,  0.0997],\n",
      "         [ 0.0384,  0.0149, -0.0177,  0.0101,  0.0209,  0.1000],\n",
      "         [ 0.0385,  0.0145, -0.0180,  0.0099,  0.0209,  0.0998],\n",
      "         ...,\n",
      "         [ 0.0385,  0.0150, -0.0177,  0.0101,  0.0208,  0.0998],\n",
      "         [ 0.0383,  0.0149, -0.0177,  0.0100,  0.0209,  0.0998],\n",
      "         [ 0.0383,  0.0143, -0.0181,  0.0097,  0.0208,  0.0997]]],\n",
      "       device='cuda:0', grad_fn=<PermuteBackward0>)\n"
     ]
    }
   ],
   "source": [
    "print(pred2)"
   ]
  },
  {
   "cell_type": "code",
   "execution_count": null,
   "metadata": {},
   "outputs": [],
   "source": []
  }
 ],
 "metadata": {
  "kernelspec": {
   "display_name": "nerfstudio3",
   "language": "python",
   "name": "python3"
  },
  "language_info": {
   "codemirror_mode": {
    "name": "ipython",
    "version": 3
   },
   "file_extension": ".py",
   "mimetype": "text/x-python",
   "name": "python",
   "nbconvert_exporter": "python",
   "pygments_lexer": "ipython3",
   "version": "3.8.16"
  },
  "orig_nbformat": 4
 },
 "nbformat": 4,
 "nbformat_minor": 2
}
